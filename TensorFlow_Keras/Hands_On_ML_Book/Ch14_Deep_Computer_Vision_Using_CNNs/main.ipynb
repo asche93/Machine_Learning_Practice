{
 "cells": [
  {
   "cell_type": "markdown",
   "id": "633a681a-6d13-45d6-88c4-c4d5dde16527",
   "metadata": {},
   "source": [
    "# Chapter 14\n",
    "## Deep Computer Vision Using Convolutional Neural Networks"
   ]
  },
  {
   "cell_type": "code",
   "execution_count": 1,
   "id": "625c8ab7-3f3a-4772-b42d-8592ef591775",
   "metadata": {},
   "outputs": [],
   "source": [
    "# Utilities to load popular datasets and artificial data generators.\n",
    "from sklearn.datasets import load_sample_images "
   ]
  },
  {
   "cell_type": "code",
   "execution_count": 3,
   "id": "43caea20-9545-45ec-99ee-d1c8b82518b7",
   "metadata": {},
   "outputs": [
    {
     "name": "stdout",
     "output_type": "stream",
     "text": [
      "TensorFlow-Version: 2.18.0\n",
      "Verfügbare CPUs: [PhysicalDevice(name='/physical_device:CPU:0', device_type='CPU')]\n"
     ]
    }
   ],
   "source": [
    "import tensorflow as tf\n",
    "\n",
    "# Testen, ob TensorFlow korrekt installiert wurde\n",
    "print(\"TensorFlow version:\", tf.__version__)\n",
    "print(\"Available CPUs:\", tf.config.list_physical_devices('CPU'))"
   ]
  },
  {
   "cell_type": "code",
   "execution_count": 8,
   "id": "cfdbd0c6-4225-4b34-bb2e-6eec3a2afbeb",
   "metadata": {},
   "outputs": [],
   "source": [
    "images = load_sample_images()[\"images\"]\n",
    "# This layers crops the central portion of the images to a target size.\n",
    "images = tf.keras.layers.CenterCrop(height=70, width=120)(images)\n",
    "# A preprocessing layer which rescales input values to a new range.\n",
    "images = tf.keras.layers.Rescaling(scale=1 / 255)(images)"
   ]
  },
  {
   "cell_type": "code",
   "execution_count": 9,
   "id": "41efa864-8b43-44a0-a5cc-e569aaf3dd2c",
   "metadata": {},
   "outputs": [
    {
     "data": {
      "text/plain": [
       "TensorShape([2, 70, 120, 3])"
      ]
     },
     "execution_count": 9,
     "metadata": {},
     "output_type": "execute_result"
    }
   ],
   "source": [
    "# two sample images, height, width, RGB\n",
    "images.shape"
   ]
  },
  {
   "cell_type": "code",
   "execution_count": 17,
   "id": "c1c3ee69-c3dc-482e-bb5b-c68c8b06fab2",
   "metadata": {},
   "outputs": [
    {
     "data": {
      "text/plain": [
       "TensorShape([2, 70, 120, 32])"
      ]
     },
     "execution_count": 17,
     "metadata": {},
     "output_type": "execute_result"
    }
   ],
   "source": [
    "# Convolutional2D layer (32 random filters, 7x7 filter size)\n",
    "# Padding \"same\": Shape is conservated\n",
    "# Padding \"valid\": Filter applied only on \"valid\" data (no padding, adding on boarders) \n",
    "# Strides: kernel jumps in pixel\n",
    "conv_layer = tf.keras.layers.Conv2D(filters=32, kernel_size=7, padding=\"same\", strides=1)\n",
    "fmaps = conv_layer(images)\n",
    "fmaps.shapekerne"
   ]
  },
  {
   "cell_type": "code",
   "execution_count": 20,
   "id": "970aaea0-d153-48c8-b17e-b5ffabe5f640",
   "metadata": {},
   "outputs": [
    {
     "name": "stdout",
     "output_type": "stream",
     "text": [
      "(7, 7, 3, 32)\n",
      "(32,)\n"
     ]
    }
   ],
   "source": [
    "kernels, biases = conv_layer.get_weights()\n",
    "# [kernel_height,kernel_width,input_channels,output_channels]\n",
    "print(kernels.shape)\n",
    "# [output_channels]\n",
    "print(biases.shape)\n"
   ]
  },
  {
   "cell_type": "markdown",
   "id": "ff7a8ed2-664f-46a0-ba64-4b74ddbf230d",
   "metadata": {},
   "source": [
    "### Hyperparameters\n",
    "- filters\n",
    "- kernel_size\n",
    "- padding\n",
    "- strides\n",
    "- activation\n",
    "- kernel_initializer"
   ]
  },
  {
   "cell_type": "code",
   "execution_count": null,
   "id": "06941aed-13e8-4025-984f-501458f53475",
   "metadata": {},
   "outputs": [],
   "source": []
  }
 ],
 "metadata": {
  "kernelspec": {
   "display_name": "Python 3 (ipykernel)",
   "language": "python",
   "name": "python3"
  },
  "language_info": {
   "codemirror_mode": {
    "name": "ipython",
    "version": 3
   },
   "file_extension": ".py",
   "mimetype": "text/x-python",
   "name": "python",
   "nbconvert_exporter": "python",
   "pygments_lexer": "ipython3",
   "version": "3.10.16"
  }
 },
 "nbformat": 4,
 "nbformat_minor": 5
}
