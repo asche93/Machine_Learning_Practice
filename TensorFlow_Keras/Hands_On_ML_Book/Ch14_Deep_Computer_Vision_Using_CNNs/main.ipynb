{
 "cells": [
  {
   "cell_type": "markdown",
   "id": "633a681a-6d13-45d6-88c4-c4d5dde16527",
   "metadata": {},
   "source": [
    "# Chapter 14\n",
    "## Deep Computer Vision Using Convolutional Neural Networks"
   ]
  },
  {
   "cell_type": "code",
   "execution_count": 1,
   "id": "625c8ab7-3f3a-4772-b42d-8592ef591775",
   "metadata": {},
   "outputs": [],
   "source": [
    "# Utilities to load popular datasets and artificial data generators.\n",
    "from sklearn.datasets import load_sample_images "
   ]
  },
  {
   "cell_type": "code",
   "execution_count": 2,
   "id": "43caea20-9545-45ec-99ee-d1c8b82518b7",
   "metadata": {},
   "outputs": [
    {
     "name": "stderr",
     "output_type": "stream",
     "text": [
      "2025-02-11 21:27:55.816752: I external/local_xla/xla/tsl/cuda/cudart_stub.cc:32] Could not find cuda drivers on your machine, GPU will not be used.\n",
      "2025-02-11 21:27:55.939654: I external/local_xla/xla/tsl/cuda/cudart_stub.cc:32] Could not find cuda drivers on your machine, GPU will not be used.\n",
      "2025-02-11 21:27:56.095394: E external/local_xla/xla/stream_executor/cuda/cuda_fft.cc:477] Unable to register cuFFT factory: Attempting to register factory for plugin cuFFT when one has already been registered\n",
      "WARNING: All log messages before absl::InitializeLog() is called are written to STDERR\n",
      "E0000 00:00:1739305676.210329    5175 cuda_dnn.cc:8310] Unable to register cuDNN factory: Attempting to register factory for plugin cuDNN when one has already been registered\n",
      "E0000 00:00:1739305676.236283    5175 cuda_blas.cc:1418] Unable to register cuBLAS factory: Attempting to register factory for plugin cuBLAS when one has already been registered\n",
      "2025-02-11 21:27:56.449580: I tensorflow/core/platform/cpu_feature_guard.cc:210] This TensorFlow binary is optimized to use available CPU instructions in performance-critical operations.\n",
      "To enable the following instructions: AVX2 FMA, in other operations, rebuild TensorFlow with the appropriate compiler flags.\n"
     ]
    },
    {
     "name": "stdout",
     "output_type": "stream",
     "text": [
      "TensorFlow version: 2.18.0\n",
      "Available CPUs: [PhysicalDevice(name='/physical_device:CPU:0', device_type='CPU')]\n"
     ]
    },
    {
     "name": "stderr",
     "output_type": "stream",
     "text": [
      "2025-02-11 21:28:00.949075: E external/local_xla/xla/stream_executor/cuda/cuda_driver.cc:152] failed call to cuInit: INTERNAL: CUDA error: Failed call to cuInit: UNKNOWN ERROR (303)\n"
     ]
    }
   ],
   "source": [
    "import tensorflow as tf\n",
    "\n",
    "# Testen, ob TensorFlow korrekt installiert wurde\n",
    "print(\"TensorFlow version:\", tf.__version__)\n",
    "print(\"Available CPUs:\", tf.config.list_physical_devices('CPU'))"
   ]
  },
  {
   "cell_type": "code",
   "execution_count": 4,
   "id": "cfdbd0c6-4225-4b34-bb2e-6eec3a2afbeb",
   "metadata": {},
   "outputs": [],
   "source": [
    "images = load_sample_images()[\"images\"]\n",
    "# This layers crops the central portion of the images to a target size.\n",
    "images = tf.keras.layers.CenterCrop(height=70, width=120)(images)\n",
    "# A preprocessing layer which rescales input values to a new range.\n",
    "images = tf.keras.layers.Rescaling(scale=1 / 255)(images)"
   ]
  },
  {
   "cell_type": "code",
   "execution_count": 5,
   "id": "41efa864-8b43-44a0-a5cc-e569aaf3dd2c",
   "metadata": {},
   "outputs": [
    {
     "data": {
      "text/plain": [
       "TensorShape([2, 70, 120, 3])"
      ]
     },
     "execution_count": 5,
     "metadata": {},
     "output_type": "execute_result"
    }
   ],
   "source": [
    "# two sample images, height, width, RGB\n",
    "images.shape"
   ]
  },
  {
   "cell_type": "markdown",
   "id": "cfbeb6e6-c2e3-4309-94b3-0e51438bcec8",
   "metadata": {},
   "source": [
    "# 1. Building Block: Create a convolutional2D layer \n",
    "- 32 random filters, 7x7 filter size\n",
    "- Padding \"same\": Shape is conservated\n",
    "- Padding \"valid\": Filter applied only on \"valid\" data (no padding, adding on boarders) \n",
    "- Strides: kernel jumps in pixel\n",
    "- Convolutional layer performs linear operation. Stacked multiple convolutional layers without activation function  would be equivalent to a single convolutional layer -> cannot learn anything complex"
   ]
  },
  {
   "cell_type": "code",
   "execution_count": 9,
   "id": "182a8580-d851-4c27-bb14-38cad21e09f9",
   "metadata": {},
   "outputs": [
    {
     "data": {
      "text/plain": [
       "TensorShape([2, 70, 120, 32])"
      ]
     },
     "execution_count": 9,
     "metadata": {},
     "output_type": "execute_result"
    }
   ],
   "source": [
    "conv_layer = tf.keras.layers.Conv2D(filters=32, kernel_size=7, padding=\"same\", strides=1)\n",
    "fmaps = conv_layer(images)\n",
    "fmaps.shape"
   ]
  },
  {
   "cell_type": "code",
   "execution_count": 10,
   "id": "970aaea0-d153-48c8-b17e-b5ffabe5f640",
   "metadata": {},
   "outputs": [
    {
     "name": "stdout",
     "output_type": "stream",
     "text": [
      "(7, 7, 3, 32)\n",
      "(32,)\n"
     ]
    }
   ],
   "source": [
    "kernels, biases = conv_layer.get_weights()\n",
    "# [kernel_height,kernel_width,input_channels,output_channels]\n",
    "print(kernels.shape)\n",
    "# [output_channels]\n",
    "print(biases.shape)"
   ]
  },
  {
   "cell_type": "markdown",
   "id": "ff7a8ed2-664f-46a0-ba64-4b74ddbf230d",
   "metadata": {},
   "source": [
    "### Hyperparameters\n",
    "- filters\n",
    "- kernel_size\n",
    "- padding\n",
    "- strides\n",
    "- activation\n",
    "- kernel_initializer\n",
    "\n",
    "### Memory Requirements\n",
    "- backpropagation needs variables from forward pass, this requires huge amount of RAM\n",
    "- during training, every layer contributes to RAM usage due to back passing\n",
    "- during inference like making predictions for new instances, only the active and the layer before needs RAM, remaining layers can release there memory load\n",
    "\n",
    "## 2. Building Block: Pooling Layers\n",
    "- goal: subsample, shrink data\n",
    "- layer without weight\n",
    "- just aggregates input using aggregation function like mean, max ...\n",
    "- **max pooling layer**\n",
    "    - destructive: 2x2 kernel with stride of 2 drops 75% of data!\n",
    "    - introduces some level of invariance to small translations\n",
    "    - in some applications like semantic segmentation this is not desirable\n",
    "    - semantic segmentation: task of classifying each pixel to in an image according to the object that pixel belongs to\n",
    "    - if input image is translated one pixel to the right, the output should also be translated to the right by one pixel -> *equivariance*\n",
    "- max pooling is losing more information then average pooling but preserves stronger features and is therefore more popular\n",
    "- pooling can be perforemd along the depth axis\n",
    "    - not as common\n",
    "    - CNN can learn to be invariant to various features\n",
    "    - e.g. for hand written digits could ensure same output under various rotation, or thickness, brightness, skew, color, ...\n",
    "- GlobalAveragePooling2D is another popular pooling layer\n",
    "    - very destructive, output a single digit (mean of whole feature map)\n",
    "    - benefitial before output layer"
   ]
  },
  {
   "cell_type": "code",
   "execution_count": 14,
   "id": "06941aed-13e8-4025-984f-501458f53475",
   "metadata": {},
   "outputs": [
    {
     "data": {
      "text/plain": [
       "<tf.Tensor: shape=(2, 3), dtype=float32, numpy=\n",
       "array([[0.64338624, 0.5971759 , 0.5824972 ],\n",
       "       [0.76306933, 0.2601113 , 0.10849128]], dtype=float32)>"
      ]
     },
     "execution_count": 14,
     "metadata": {},
     "output_type": "execute_result"
    }
   ],
   "source": [
    "# Create a maxpooling layer, by default padding is valid (no padding), stride is 2, kernel 2 x 2\n",
    "# AvgPool2D for average pooling\n",
    "max_pool = tf.keras.layers.MaxPool2D(pool_size=2)\n",
    "# GlobalAveragePooling: get mean intensity of RGB for each image\n",
    "# use lambda for mean of spatial dimensions height and width 1 and 2\n",
    "global_avg_pool = tf.keras.layers.Lambda(lambda X: tf.reduce_mean(X, axis=[1,2]))\n",
    "global_avg_pool(images)"
   ]
  },
  {
   "cell_type": "code",
   "execution_count": null,
   "id": "016b6f7b-9a59-4dfc-95db-fdeb7c733e9e",
   "metadata": {},
   "outputs": [],
   "source": []
  },
  {
   "cell_type": "code",
   "execution_count": null,
   "id": "d20c8ee0-84f8-435c-9b6a-1cf781b69675",
   "metadata": {},
   "outputs": [],
   "source": []
  }
 ],
 "metadata": {
  "kernelspec": {
   "display_name": "Python 3 (ipykernel)",
   "language": "python",
   "name": "python3"
  },
  "language_info": {
   "codemirror_mode": {
    "name": "ipython",
    "version": 3
   },
   "file_extension": ".py",
   "mimetype": "text/x-python",
   "name": "python",
   "nbconvert_exporter": "python",
   "pygments_lexer": "ipython3",
   "version": "3.10.16"
  }
 },
 "nbformat": 4,
 "nbformat_minor": 5
}
