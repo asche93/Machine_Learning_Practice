{
 "cells": [
  {
   "cell_type": "markdown",
   "id": "633a681a-6d13-45d6-88c4-c4d5dde16527",
   "metadata": {},
   "source": [
    "# Chapter 14\n",
    "## Deep Computer Vision Using Convolutional Neural Networks"
   ]
  },
  {
   "cell_type": "code",
   "execution_count": null,
   "id": "3975d1be",
   "metadata": {},
   "outputs": [],
   "source": [
    "import tensorflow as tf\n",
    "\n",
    "print(\"\\nTensorFlow version:\", tf.__version__)\n",
    "print(\"\\nAvailable CPUs:\", tf.config.list_physical_devices('CPU'))\n",
    "print(\"\\nAvailable GPUs:\", tf.config.list_physical_devices('GPU'))\n",
    "\n",
    "# Debug mode to check if GPU is used\n",
    "#tf.debugging.set_log_device_placement(True)\n",
    "a = tf.constant([[1., 2.], [3., 4.]])\n",
    "b = tf.constant([[3., 3.], [3., 3.]])\n",
    "print(\"\\nResult:\", tf.matmul(a,b))\n",
    "tf.debugging.set_log_device_placement(False)"
   ]
  },
  {
   "cell_type": "code",
   "execution_count": null,
   "id": "625c8ab7-3f3a-4772-b42d-8592ef591775",
   "metadata": {},
   "outputs": [],
   "source": [
    "# Utilities to load popular datasets and artificial data generators.\n",
    "from sklearn.datasets import load_sample_images "
   ]
  },
  {
   "cell_type": "code",
   "execution_count": null,
   "id": "cfdbd0c6-4225-4b34-bb2e-6eec3a2afbeb",
   "metadata": {},
   "outputs": [],
   "source": [
    "images = load_sample_images()[\"images\"]\n",
    "# This layers crops the central portion of the images to a target size.\n",
    "images = tf.keras.layers.CenterCrop(height=70, width=120)(images)\n",
    "# A preprocessing layer which rescales input values to a new range.\n",
    "images = tf.keras.layers.Rescaling(scale=1 / 255)(images)"
   ]
  },
  {
   "cell_type": "code",
   "execution_count": null,
   "id": "41efa864-8b43-44a0-a5cc-e569aaf3dd2c",
   "metadata": {},
   "outputs": [],
   "source": [
    "# two sample images, height, width, RGB\n",
    "images.shape"
   ]
  },
  {
   "cell_type": "markdown",
   "id": "cfbeb6e6-c2e3-4309-94b3-0e51438bcec8",
   "metadata": {},
   "source": [
    "# 1. Building Block: Create a convolutional2D layer \n",
    "- 32 random filters, 7x7 filter size\n",
    "- Padding \"same\": Shape is conservated\n",
    "- Padding \"valid\": Filter applied only on \"valid\" data (no padding, adding on boarders) \n",
    "- Strides: kernel jumps in pixel\n",
    "- Convolutional layer performs linear operation. Stacked multiple convolutional layers without activation function  would be equivalent to a single convolutional layer -> cannot learn anything complex"
   ]
  },
  {
   "cell_type": "code",
   "execution_count": null,
   "id": "182a8580-d851-4c27-bb14-38cad21e09f9",
   "metadata": {},
   "outputs": [],
   "source": [
    "conv_layer = tf.keras.layers.Conv2D(filters=32, kernel_size=7, padding=\"same\", strides=1)\n",
    "fmaps = conv_layer(images)\n",
    "fmaps.shape"
   ]
  },
  {
   "cell_type": "code",
   "execution_count": null,
   "id": "970aaea0-d153-48c8-b17e-b5ffabe5f640",
   "metadata": {},
   "outputs": [],
   "source": [
    "kernels, biases = conv_layer.get_weights()\n",
    "# [kernel_height,kernel_width,input_channels,output_channels]\n",
    "print(kernels.shape)\n",
    "# [output_channels]\n",
    "print(biases.shape)"
   ]
  },
  {
   "cell_type": "markdown",
   "id": "ff7a8ed2-664f-46a0-ba64-4b74ddbf230d",
   "metadata": {},
   "source": [
    "### Hyperparameters\n",
    "- filters\n",
    "- kernel_size\n",
    "- padding\n",
    "- strides\n",
    "- activation\n",
    "- kernel_initializer\n",
    "\n",
    "### Memory Requirements\n",
    "- backpropagation needs variables from forward pass, this requires huge amount of RAM\n",
    "- during training, every layer contributes to RAM usage due to back passing\n",
    "- during inference like making predictions for new instances, only the active and the layer before needs RAM, remaining layers can release there memory load\n",
    "\n",
    "## 2. Building Block: Pooling Layers\n",
    "- goal: subsample, shrink data\n",
    "- layer without weight\n",
    "- just aggregates input using aggregation function like mean, max ...\n",
    "- **max pooling layer**\n",
    "    - destructive: 2x2 kernel with stride of 2 drops 75% of data!\n",
    "    - introduces some level of invariance to small translations\n",
    "    - in some applications like semantic segmentation this is not desirable\n",
    "    - semantic segmentation: task of classifying each pixel to in an image according to the object that pixel belongs to\n",
    "    - if input image is translated one pixel to the right, the output should also be translated to the right by one pixel -> *equivariance*\n",
    "- max pooling is losing more information then average pooling but preserves stronger features and is therefore more popular\n",
    "- pooling can be perforemd along the depth axis\n",
    "    - not as common\n",
    "    - CNN can learn to be invariant to various features\n",
    "    - e.g. for hand written digits could ensure same output under various rotation, or thickness, brightness, skew, color, ...\n",
    "- GlobalAveragePooling2D is another popular pooling layer\n",
    "    - very destructive, output a single digit (mean of whole feature map)\n",
    "    - benefitial before output layer"
   ]
  },
  {
   "cell_type": "code",
   "execution_count": null,
   "id": "06941aed-13e8-4025-984f-501458f53475",
   "metadata": {},
   "outputs": [],
   "source": [
    "# Create a maxpooling layer, by default padding is valid (no padding), stride is 2, kernel 2 x 2\n",
    "# AvgPool2D for average pooling\n",
    "max_pool = tf.keras.layers.MaxPool2D(pool_size=2)\n",
    "# GlobalAveragePooling: get mean intensity of RGB for each image\n",
    "# use lambda for mean of spatial dimensions height and width 1 and 2\n",
    "global_avg_pool = tf.keras.layers.Lambda(lambda X: tf.reduce_mean(X, axis=[1,2]))\n",
    "global_avg_pool(images)"
   ]
  },
  {
   "cell_type": "code",
   "execution_count": null,
   "id": "016b6f7b-9a59-4dfc-95db-fdeb7c733e9e",
   "metadata": {},
   "outputs": [],
   "source": []
  },
  {
   "cell_type": "code",
   "execution_count": null,
   "id": "d20c8ee0-84f8-435c-9b6a-1cf781b69675",
   "metadata": {},
   "outputs": [],
   "source": []
  }
 ],
 "metadata": {
  "kernelspec": {
   "display_name": "tf-keras",
   "language": "python",
   "name": "python3"
  },
  "language_info": {
   "codemirror_mode": {
    "name": "ipython",
    "version": 3
   },
   "file_extension": ".py",
   "mimetype": "text/x-python",
   "name": "python",
   "nbconvert_exporter": "python",
   "pygments_lexer": "ipython3",
   "version": "3.12.9"
  }
 },
 "nbformat": 4,
 "nbformat_minor": 5
}
